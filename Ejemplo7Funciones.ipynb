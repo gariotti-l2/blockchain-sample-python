{
 "cells": [
  {
   "cell_type": "markdown",
   "metadata": {
    "slideshow": {
     "slide_type": "slide"
    }
   },
   "source": [
    "# Blockchain Explained in 7 Python Functions\n",
    "\n",
    "https://towardsdatascience.com/blockchain-explained-in-7-python-functions-c49c84f34ba5\n",
    "\n",
    "I think for many people out there, Blockchain is this phenomenon, which is hard to get your head around. I started watching videos and reading articles, but for me personally, it wasn’t until I wrote my own simple Blockchain, that I truly understood what it is and the potential applications for it.\n",
    "\n",
    "The way I think about blockchain is it is an encrypted database that is public. If you were Amazon and you wanted to use the technology to track your stock levels, would using Blockchain make sense? Probably not, since your customers won’t want to expend their resources verifying your blockchain, since they state on their website, ‘Only 1 left!’, anyway.\n",
    "\n",
    "I’ll leave you to think about future applications. So without further ado, lets set up our 7 functions!\n",
    "\n",
    "\n",
    "At the heart of the blockchain is the hashing function. Without encryption, the blockchain will be easily manipulable and transactions will be able to be fraudulently inserted.\n",
    "\n",
    "\n"
   ]
  },
  {
   "cell_type": "code",
   "execution_count": null,
   "metadata": {
    "collapsed": true
   },
   "outputs": [],
   "source": [
    "import json\n",
    "import hashlib, sys\n",
    "\n",
    "def hash_function(k):\n",
    "    \"\"\"Hashes our transaction.\"\"\"\n",
    "    if type(k) is not str:\n",
    "        k = json.dumps(k, sort_keys=True)\n",
    "\n",
    "    return (hashlib.sha256(k.encode('utf-8'))).hexdigest()"
   ]
  },
  {
   "cell_type": "markdown",
   "metadata": {
    "collapsed": true,
    "slideshow": {
     "slide_type": "slide"
    }
   },
   "source": [
    "The ‘state’ is the record of who owns want. For example, I have 10 coins and I give 1 to Medium, then the state will be the value of the dictionary below.\n",
    "\n",
    "{‘transaction’: {‘Tom’: 9, ‘Medium’: 1}}\n"
   ]
  },
  {
   "cell_type": "code",
   "execution_count": null,
   "metadata": {
    "collapsed": true
   },
   "outputs": [],
   "source": [
    "def update_state(transaction, state):\n",
    "    state = state.copy()\n",
    "\n",
    "    for key in transaction:\n",
    "        if key in state.keys():\n",
    "            state[key] += transaction[key]\n",
    "        else:\n",
    "            state[key] = transaction[key]\n",
    "\n",
    "    return state"
   ]
  },
  {
   "cell_type": "markdown",
   "metadata": {
    "slideshow": {
     "slide_type": "slide"
    }
   },
   "source": [
    "The important thing to note is that overdrafts cannot exist. If there are only 10 coins in existence, then I cannot give 11 coins to someone. The below function verifies that the transaction we attempt to make is indeed valid. Also, a transaction must balance. I cannot give 5 coins and have the recipient receive 4 coins, since that would allow the destruction and creation of coins."
   ]
  },
  {
   "cell_type": "code",
   "execution_count": null,
   "metadata": {
    "collapsed": true
   },
   "outputs": [],
   "source": [
    "def valid_transaction(transaction, state):\n",
    "    \"\"\"A valid transaction must sum to 0.\"\"\"\n",
    "    if sum(transaction.values()) is not 0:\n",
    "        return False\n",
    "\n",
    "    for key in transaction.keys():\n",
    "        if key in state.keys():\n",
    "            account_balance = state[key]\n",
    "        else:\n",
    "            account_balance = 0\n",
    "\n",
    "        if account_balance + transaction[key] < 0:\n",
    "            return False\n",
    "\n",
    "    return True"
   ]
  },
  {
   "cell_type": "markdown",
   "metadata": {
    "slideshow": {
     "slide_type": "slide"
    }
   },
   "source": [
    "Now, we can make our block. The information from the previous block is read, and used to link it to the new block. This, too, is central to the idea of blockchain. Seemingly valid transactions can be attempted to fraudulently be inserted into the blockchain, but decrypting all the previous blocks is computationally (nearly) impossible, which preserves the integrity of the blockchain."
   ]
  },
  {
   "cell_type": "code",
   "execution_count": null,
   "metadata": {
    "collapsed": true
   },
   "outputs": [],
   "source": [
    "def make_block(transactions, chain):\n",
    "    \"\"\"Make a block to go into the chain.\"\"\"\n",
    "    parent_hash = chain[-1]['hash']\n",
    "    block_number = chain[-1]['contents']['block_number'] + 1\n",
    "\n",
    "    block_contents = {\n",
    "        'block_number': block_number,\n",
    "        'parent_hash': parent_hash,\n",
    "        'transaction_count': block_number + 1,\n",
    "        'transaction': transactions\n",
    "    }\n",
    "\n",
    "    return {'hash': hash_function(block_contents), 'contents': block_contents}"
   ]
  },
  {
   "cell_type": "markdown",
   "metadata": {
    "slideshow": {
     "slide_type": "slide"
    }
   },
   "source": [
    "Below is a small helper function to check the hash of the previous block:"
   ]
  },
  {
   "cell_type": "code",
   "execution_count": null,
   "metadata": {
    "collapsed": true
   },
   "outputs": [],
   "source": [
    "def check_block_hash(block):\n",
    "    expected_hash = hash_function(block['contents'])\n",
    "\n",
    "    if block['hash'] is not expected_hash:\n",
    "        raise\n",
    "\n",
    "    return"
   ]
  },
  {
   "cell_type": "markdown",
   "metadata": {
    "slideshow": {
     "slide_type": "slide"
    }
   },
   "source": [
    "Once we have assembled everything together, its time to create our block. We will now update the blockchain."
   ]
  },
  {
   "cell_type": "code",
   "execution_count": null,
   "metadata": {
    "collapsed": true
   },
   "outputs": [],
   "source": [
    "def check_block_validity(block, parent, state):\n",
    "    parent_number = parent['contents']['block_number']\n",
    "    parent_hash = parent['hash']\n",
    "    block_number = block['contents']['block_number']\n",
    "\n",
    "    for transaction in block['contents']['transaction']:\n",
    "        if valid_transaction(transaction, state):\n",
    "            state = update_state(transaction, state)\n",
    "        else:\n",
    "            raise\n",
    "\n",
    "    check_block_hash(block)  # Check hash integrity\n",
    "\n",
    "    if block_number is not parent_number + 1:\n",
    "        raise\n",
    "\n",
    "    if block['contents']['parent_hash'] is not parent_hash:\n",
    "        raise\n",
    "\n",
    "    return state\n"
   ]
  },
  {
   "cell_type": "markdown",
   "metadata": {
    "slideshow": {
     "slide_type": "slide"
    }
   },
   "source": [
    "Before we are finished, the chain must be verified:"
   ]
  },
  {
   "cell_type": "code",
   "execution_count": null,
   "metadata": {
    "collapsed": true
   },
   "outputs": [],
   "source": [
    "def check_chain(chain):\n",
    "    \"\"\"Check the chain is valid.\"\"\"\n",
    "    if type(chain) is str:\n",
    "        try:\n",
    "            chain = json.loads(chain)\n",
    "            assert (type(chain) == list)\n",
    "        except ValueError:\n",
    "            # String passed in was not valid JSON\n",
    "            return False\n",
    "    elif type(chain) is not list:\n",
    "        return False\n",
    "\n",
    "    state = {}\n",
    "\n",
    "    for transaction in chain[0]['contents']['transaction']:\n",
    "        state = update_state(transaction, state)\n",
    "\n",
    "    check_block_hash(chain[0])\n",
    "    parent = chain[0]\n",
    "\n",
    "    for block in chain[1:]:\n",
    "        state = check_block_validity(block, parent, state)\n",
    "        parent = block\n",
    "\n",
    "    return state"
   ]
  },
  {
   "cell_type": "markdown",
   "metadata": {
    "slideshow": {
     "slide_type": "slide"
    }
   },
   "source": [
    "Finally, need a transaction function, which hangs all of the above together:"
   ]
  },
  {
   "cell_type": "code",
   "execution_count": 28,
   "metadata": {
    "collapsed": true
   },
   "outputs": [],
   "source": [
    "def add_transaction_to_chain(transaction, state, chain):\n",
    "    if valid_transaction(transaction, state):\n",
    "        state = update_state(transaction, state)\n",
    "    else:\n",
    "        raise Exception('Invalid transaction.')\n",
    "\n",
    "    my_block = make_block(state, chain)\n",
    "    chain.append(my_block)\n",
    "\n",
    "    for transaction in chain:\n",
    "        check_chain(transaction)\n",
    "\n",
    "    return state, chain\n"
   ]
  },
  {
   "cell_type": "markdown",
   "metadata": {
    "slideshow": {
     "slide_type": "slide"
    }
   },
   "source": [
    "So, now we have our 7 functions. How do we interact with it? Well, first we need to start our chain with a Genesis Block. This is the inception of our new coin (or stock inventory, etc). For the purposes of this article, I will say that I, Tom, will start off with 10 coins."
   ]
  },
  {
   "cell_type": "code",
   "execution_count": 29,
   "metadata": {
    "collapsed": false
   },
   "outputs": [
    {
     "name": "stdout",
     "output_type": "stream",
     "text": [
      "chain_state:  {'Medium': 1, 'Tom': 9}\n",
      "block_chain:  [{'contents': {'parent_hash': None, 'transaction': [{'Tom': 10}], 'block_number': 0, 'transaction_count': 1}, 'hash': '064d0b480b3b92761f31831d30ae9f01954efaa62371b4b44f11465ec22abe93'}, {'contents': {'parent_hash': '064d0b480b3b92761f31831d30ae9f01954efaa62371b4b44f11465ec22abe93', 'transaction': {'Medium': 1, 'Tom': 9}, 'block_number': 1, 'transaction_count': 2}, 'hash': 'b4ae25f0cc0ee0b0caa66b9a3473e9a108652d53b1dc22a40962fef5c8c0f08c'}]\n"
     ]
    }
   ],
   "source": [
    "\n",
    "genesis_block = {'hash': hash_function({'block_number': 0,'parent_hash': None,'transaction_count': 1,'transaction': [{'Tom': 10}]}),'contents': {'block_number': 0,'parent_hash': None,'transaction_count': 1,'transaction': [{'Tom': 10}]},}\n",
    "\n",
    "block_chain = [genesis_block]\n",
    "chain_state = {'Tom': 10}\n",
    "\n",
    "chain_state, block_chain = add_transaction_to_chain(transaction={'Tom': -1, 'Medium': 1}, state=chain_state, chain=block_chain)\n",
    "\n",
    "print('chain_state: ' , chain_state)\n",
    "\n",
    "print('block_chain: ' , block_chain)\n"
   ]
  },
  {
   "cell_type": "markdown",
   "metadata": {
    "slideshow": {
     "slide_type": "slide"
    }
   },
   "source": [
    "Now, look what happens when I give some coin to Medium:\n",
    "\n",
    "chain_state, block_chain = add_transaction_to_chain(transaction={'Tom': -1, 'Medium': 1}, state=chain_state, chain=block_chain)\n",
    "The state gets updated to show who has what:\n",
    "\n",
    "{'Medium': 1, 'Tom': 9}\n",
    "And the blockchain looks like this:\n",
    "\n",
    "[{'contents': {'block_number': 0,\n",
    "               'parent_hash': None,\n",
    "               'transaction': [{'Tom': 10}],\n",
    "               'transaction_count': 1},\n",
    "  'hash': '064d0b480b3b92761f31831d30ae9f01954efaa62371b4b44f11465ec22abe93'},\n",
    " {'contents': {'block_number': 1,\n",
    "               'parent_hash': '064d0b480b3b92761f31831d30ae9f01954efaa62371b4b44f11465ec22abe93',\n",
    "               'transaction': {'Medium': 1, 'Tom': 9},\n",
    "               'transaction_count': 2},\n",
    "  'hash': 'b4ae25f0cc0ee0b0caa66b9a3473e9a108652d53b1dc22a40962fef5c8c0f08c'}]\n",
    "Our first new transaction has been created and inserted to the top of the stack. Now, I hope I have piqued your curiosity, and are interested in copying the code down and playing with it. In my opinion, this is the best way to learn a new technology — Get inside it.\n",
    "\n",
    "Play with the code and make your own coin. What happens if you try and give more coins than exist? What happens to the state if you keep creating new payees?\n",
    "\n",
    "Can you think of future applications for blockchain? Feel free to ask me anything in the comments, and I’ll try and help."
   ]
  }
 ],
 "metadata": {
  "celltoolbar": "Slideshow",
  "kernelspec": {
   "display_name": "Python 3",
   "language": "python",
   "name": "python3"
  },
  "language_info": {
   "codemirror_mode": {
    "name": "ipython",
    "version": 3
   },
   "file_extension": ".py",
   "mimetype": "text/x-python",
   "name": "python",
   "nbconvert_exporter": "python",
   "pygments_lexer": "ipython3",
   "version": "3.5.4"
  }
 },
 "nbformat": 4,
 "nbformat_minor": 0
}
